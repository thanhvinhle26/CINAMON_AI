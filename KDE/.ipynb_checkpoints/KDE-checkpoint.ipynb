{
 "cells": [
  {
   "cell_type": "code",
   "execution_count": 152,
   "metadata": {},
   "outputs": [],
   "source": [
    "import numpy as np\n",
    "import matplotlib.pyplot as plt\n",
    "from sklearn.decomposition import PCA\n",
    "from keras.datasets import mnist\n",
    "from scipy.stats import multivariate_normal\n",
    "\n",
    "def multivariate(x, d, mean, covariance):\n",
    "    \"\"\"pdf of the multivariate normal distribution.\"\"\"\n",
    "    x_m = x - mean\n",
    "    return (1. / (np.sqrt((2 * np.pi)**d * np.linalg.det(covariance))) * \n",
    "            np.exp(-(np.linalg.solve(covariance, x_m).T.dot(x_m)) / 2))\n",
    "#import data\n",
    "(X_train,y_train),(X_test,y_test)=mnist.load_data()\n",
    "data=X_train\n",
    "data=data.reshape(data.shape[0],data.shape[1]*data.shape[2])/255\n",
    "pca=PCA(n_components=2)\n",
    "pca.fit(data)\n",
    "data=pca.fit_transform(data)\n",
    "N=10 #Number of bins\n",
    "lenDataset = data.shape[0]\n",
    "dimData=data.shape[1]\n",
    "#normalized histogram of loaded datase\n",
    "hist, bins = np.histogramdd(data, bins=N, density=True)\n",
    "center=np.zeros((N,dimData))\n",
    "center[:,0]=(bins[0][:-1]+bins[0][1:])/2\n",
    "center[:,1]=(bins[1][:-1]+bins[1][1:])/2\n",
    "H=np.zeros((dimData,dimData))\n",
    "for i in range(dimData):\n",
    "    H[i,i]=((4/(dimData+2))**(1/(dimData+4))*(lenDataset**(-1/(dimData+4)))*np.std(data[i]))**2\n",
    "\n",
    "\n",
    "i=0\n",
    "generatedDataPdfCV=np.zeros((10,2))\n",
    "while i<10:\n",
    "    randNo=np.random.rand(dimData)*(np.max(data)-np.min(data))-np.absolute(np.min(data))\n",
    "    if np.random.rand()<=np.sum((multivariate_normal.pdf(data,randNo,H))/lenDataset):\n",
    "        generatedDataPdfCV[i]=randNo\n",
    "        i+=1\n",
    "\n",
    "\n",
    "\n"
   ]
  },
  {
   "cell_type": "code",
   "execution_count": 146,
   "metadata": {},
   "outputs": [
    {
     "data": {
      "text/plain": [
       "5.821927170687218e-12"
      ]
     },
     "execution_count": 146,
     "metadata": {},
     "output_type": "execute_result"
    }
   ],
   "source": [
    "np.sum((multivariate_normal.pdf(data,randNo,H))/lenDataset)"
   ]
  },
  {
   "cell_type": "code",
   "execution_count": 154,
   "metadata": {},
   "outputs": [],
   "source": [
    "generatedData=pca.inverse_transform(generatedDataPdfCV)"
   ]
  },
  {
   "cell_type": "code",
   "execution_count": 157,
   "metadata": {},
   "outputs": [],
   "source": [
    "generatedData=generatedData.reshape(10,28,28)"
   ]
  },
  {
   "cell_type": "code",
   "execution_count": 166,
   "metadata": {},
   "outputs": [
    {
     "data": {
      "text/plain": [
       "<matplotlib.image.AxesImage at 0x19009640c08>"
      ]
     },
     "execution_count": 166,
     "metadata": {},
     "output_type": "execute_result"
    },
    {
     "data": {
      "image/png": "[encoded data removed]",
      "text/plain": [
       "<Figure size 432x288 with 1 Axes>"
      ]
     },
     "metadata": {
      "needs_background": "light"
     },
     "output_type": "display_data"
    }
   ],
   "source": [
    "plt.imshow(generatedData[6])"
   ]
  },
  {
   "cell_type": "code",
   "execution_count": 161,
   "metadata": {},
   "outputs": [
    {
     "data": {
      "text/plain": [
       "(28, 28)"
      ]
     },
     "execution_count": 161,
     "metadata": {},
     "output_type": "execute_result"
    }
   ],
   "source": []
  },
  {
   "cell_type": "code",
   "execution_count": 51,
   "metadata": {},
   "outputs": [
    {
     "data": {
      "text/plain": [
       "(2, 2)"
      ]
     },
     "execution_count": 51,
     "metadata": {},
     "output_type": "execute_result"
    }
   ],
   "source": [
    "H.shape"
   ]
  },
  {
   "cell_type": "code",
   "execution_count": 73,
   "metadata": {},
   "outputs": [
    {
     "data": {
      "text/plain": [
       "(1, 2)"
      ]
     },
     "execution_count": 73,
     "metadata": {},
     "output_type": "execute_result"
    }
   ],
   "source": [
    "np.random.randn(1,2).shape"
   ]
  },
  {
   "cell_type": "code",
   "execution_count": 67,
   "metadata": {},
   "outputs": [
    {
     "data": {
      "text/plain": [
       "(60000, 2)"
      ]
     },
     "execution_count": 67,
     "metadata": {},
     "output_type": "execute_result"
    }
   ],
   "source": [
    "data.shape"
   ]
  },
  {
   "cell_type": "code",
   "execution_count": 93,
   "metadata": {},
   "outputs": [
    {
     "data": {
      "text/plain": [
       "(60000, 2)"
      ]
     },
     "execution_count": 93,
     "metadata": {},
     "output_type": "execute_result"
    }
   ],
   "source": [
    "(randNo-data).shape"
   ]
  },
  {
   "cell_type": "code",
   "execution_count": 91,
   "metadata": {},
   "outputs": [
    {
     "data": {
      "text/plain": [
       "(60000, 2)"
      ]
     },
     "execution_count": 91,
     "metadata": {},
     "output_type": "execute_result"
    }
   ],
   "source": [
    "data.shape"
   ]
  },
  {
   "cell_type": "code",
   "execution_count": 86,
   "metadata": {},
   "outputs": [
    {
     "data": {
      "text/plain": [
       "array([4.43962285])"
      ]
     },
     "execution_count": 86,
     "metadata": {},
     "output_type": "execute_result"
    }
   ],
   "source": [
    "randNo"
   ]
  },
  {
   "cell_type": "code",
   "execution_count": 85,
   "metadata": {},
   "outputs": [
    {
     "data": {
      "text/plain": [
       "array([ 3.77793653e+00,  5.55813817e+00,  4.74530308e+00,  5.03333057e+00,\n",
       "        5.44627990e+00,  1.91976268e+00,  3.62844999e+00,  1.00050391e+00,\n",
       "        4.74595315e+00,  8.72617408e-01,  5.41541426e+00,  3.33318952e-01,\n",
       "        1.30294878e+00,  3.38734523e+00,  4.21025572e+00,  4.42265723e+00,\n",
       "       -3.34954099e-02,  1.20372746e+00,  4.40880602e+00,  4.65682232e+00,\n",
       "        5.47023943e+00,  9.27486350e-01,  4.06074103e+00,  4.91079213e+00,\n",
       "        3.77468434e-01,  1.80460222e+00,  2.73192639e-01,  5.44753796e+00,\n",
       "        3.78563614e-01,  5.33232534e+00,  7.53283437e-01,  5.04491241e+00,\n",
       "        8.70444372e-01,  5.39332489e+00,  1.21946469e+00,  6.11410385e+00,\n",
       "        5.08883603e+00,  1.49865198e+00,  1.10205904e+00,  6.14947148e+00,\n",
       "        6.27264265e+00,  9.42254231e-02,  4.65962254e+00,  6.65581509e-01,\n",
       "        7.14289493e-01,  4.72243413e+00,  5.42950340e+00,  6.98988509e-01,\n",
       "        4.46856241e+00,  3.82947722e+00,  2.38203763e+00,  5.19214665e+00,\n",
       "        5.30789951e+00,  3.38201879e+00,  5.13944707e+00,  3.92292051e-01,\n",
       "        1.07282469e+00,  1.43269087e+00,  4.31976119e+00,  4.72267247e+00,\n",
       "        2.33866601e+00,  5.72854622e+00,  5.12726725e+00,  1.18837198e+00,\n",
       "        8.52492536e-01,  4.86333831e+00,  4.59407898e+00,  1.44405193e+00,\n",
       "       -3.32597137e-01,  1.24554218e+00,  5.82275183e-01,  4.74319232e+00,\n",
       "        5.02103022e+00, -6.97395571e-01,  3.85218266e-01,  5.21503880e+00,\n",
       "        7.04915658e-01,  4.50353894e+00,  8.98971597e-01,  3.76721827e-01,\n",
       "        1.67540068e+00,  4.29587441e+00,  1.16053156e+00, -2.68092644e-01,\n",
       "       -3.56639107e-01,  1.83559201e+00,  1.63636655e+00,  5.03099223e+00,\n",
       "        5.11528739e+00,  2.01912448e-01,  5.02416556e+00,  1.82463669e-03,\n",
       "        7.44554378e-01,  8.73925750e-01,  4.56459783e+00,  1.06397402e+00,\n",
       "        3.82621093e+00,  2.50076137e+00,  4.87857284e+00,  2.42983702e+00,\n",
       "        5.61217896e+00,  6.28038567e+00,  2.71075798e-01,  1.77070571e+00,\n",
       "        1.90383855e+00,  5.36535979e+00,  5.23763969e+00,  1.87262468e+00,\n",
       "        1.63045733e+00,  1.45461017e+00,  6.58498226e-01,  5.32725749e+00,\n",
       "        5.07638865e+00,  3.50573257e-01,  4.42549790e+00,  1.28074432e+00,\n",
       "        4.56897508e+00,  1.63578576e+00,  4.18833820e+00,  4.89695477e+00,\n",
       "        1.66021617e+00,  5.13012451e+00,  5.59436063e+00, -4.91649436e-01,\n",
       "        5.51245931e-01,  4.71106997e+00,  1.46528374e+00,  4.32214032e+00,\n",
       "        5.23109363e+00,  3.98432993e+00,  9.95272055e-01,  6.37059933e-01,\n",
       "        4.26250790e+00,  7.67508746e-01,  3.86492178e+00,  1.08562924e-01,\n",
       "        2.07106730e+00,  7.50224961e-01,  5.04173995e+00,  5.23128721e+00,\n",
       "        4.28680609e+00, -9.34049288e-02,  4.83483049e+00,  1.15473977e+00,\n",
       "        5.45814444e+00,  5.16451733e+00,  2.81309670e-02,  4.80335557e+00,\n",
       "        1.21210485e+00,  7.99289404e-01,  5.04466611e+00,  4.87937004e+00,\n",
       "        4.09291433e+00,  1.87734128e+00,  5.35843078e+00, -3.72523659e-01,\n",
       "        5.54871660e+00,  8.82726443e-01,  5.17891192e+00,  5.24853299e+00,\n",
       "        5.27944615e+00,  1.24227496e+00,  2.16233312e-01,  9.94126089e-01,\n",
       "        5.24212500e+00,  4.67862713e+00,  5.28312276e+00,  1.54659302e+00,\n",
       "        5.35020587e+00,  5.97360527e+00,  3.80445517e+00, -1.49365101e-01,\n",
       "        1.51249841e+00,  3.91677105e+00,  2.35871481e+00,  1.03596324e+00,\n",
       "        5.46358643e+00,  5.80101171e+00, -8.04928443e-01,  5.22358274e+00,\n",
       "        4.15326167e+00,  6.25407996e-01,  4.59529547e+00,  5.71678495e+00,\n",
       "        2.67348694e+00,  2.53357689e-01,  2.02766395e+00,  6.44107439e-01,\n",
       "        5.87130914e+00,  5.50042204e+00,  1.97015498e-01,  1.05487589e+00,\n",
       "        3.95915412e+00,  6.69021051e-01,  5.32002269e+00,  3.62599339e+00,\n",
       "        5.15995006e+00,  1.79442363e+00,  4.91496938e+00,  6.73683241e-01,\n",
       "        5.53638218e+00, -4.24532753e-01,  5.81590633e-01, -1.92591438e-01,\n",
       "        2.56153594e+00,  1.68270822e+00,  1.55670986e+00,  4.90957736e+00,\n",
       "        4.26759445e+00,  4.78735064e+00,  4.91327654e+00,  2.05841902e+00,\n",
       "        1.05192453e+00,  3.94158750e+00,  5.21771697e+00,  4.37624363e+00,\n",
       "        6.26150987e-01,  5.78815728e+00,  5.34386925e+00,  4.64678728e+00,\n",
       "        4.21168721e+00,  3.81059026e+00,  5.63241207e+00, -1.10275864e+00,\n",
       "        2.36071677e+00,  5.88998329e-01,  1.43927932e+00,  9.52497329e-01,\n",
       "        1.45391253e+00,  5.93116691e+00,  7.78382696e-01,  5.18863203e+00,\n",
       "        3.20737098e-01,  1.68460981e+00,  2.42829703e+00, -2.58606101e-01,\n",
       "        4.58288033e+00,  2.69615263e+00,  2.88782051e+00,  1.74545159e+00,\n",
       "        5.33678881e+00,  5.03803327e+00,  5.19330301e+00,  6.22033784e+00,\n",
       "        4.85635105e+00,  5.08294871e+00,  1.97709528e+00,  4.16950750e+00,\n",
       "        4.48934918e+00,  5.72670174e+00,  4.61147616e+00,  1.02996402e-01,\n",
       "        3.69529736e+00,  1.73734229e+00,  1.39388289e+00,  5.39787133e+00,\n",
       "        2.30866876e+00,  5.40758075e+00,  2.10759016e+00,  5.36639205e+00,\n",
       "        5.58497204e+00,  9.80310131e-01,  1.58613415e+00,  1.72484525e+00,\n",
       "        1.34134907e-01,  1.79010448e+00,  8.53307495e-01,  4.52722477e+00,\n",
       "        5.25304180e+00,  1.06841746e+00,  1.93223576e+00,  4.82142240e+00,\n",
       "        1.49498002e+00,  2.27833069e+00,  5.30958477e+00,  4.38095008e+00,\n",
       "        3.80000318e-01,  5.18872712e+00,  4.70068652e-01,  6.49851014e-01,\n",
       "        4.85352012e+00,  6.37327410e+00,  4.91664550e+00,  5.29785059e+00,\n",
       "        5.32515739e+00,  8.08817255e-01,  4.64521274e+00,  1.16379433e+00,\n",
       "        5.83729369e+00,  5.28834841e+00,  2.93056457e-01,  5.72687608e+00,\n",
       "        4.52097811e+00,  4.42805155e+00,  3.29632816e+00,  5.38359675e+00,\n",
       "        1.42761636e+00,  2.61181315e+00,  5.48424139e+00,  3.48777691e-01,\n",
       "        4.66463241e-02,  5.43604337e+00, -3.85622697e-02,  1.55351352e+00,\n",
       "        1.48675084e+00,  5.69370630e+00,  5.05152342e+00,  1.70178097e-01,\n",
       "       -9.61187404e-01,  4.92341352e+00, -3.61722578e-01,  1.01970341e+00,\n",
       "        1.73906525e+00,  2.74005783e+00,  1.68915969e+00,  1.74760718e+00,\n",
       "        8.17216392e-01,  2.88963960e-01, -9.50456584e-01,  1.37763172e+00,\n",
       "        4.25855635e+00, -3.21366885e-01,  5.06534999e+00, -1.63520269e+00,\n",
       "        2.20304079e+00,  5.39928969e+00,  9.19945189e-01,  5.88667377e+00,\n",
       "        4.48545563e+00,  5.34091669e+00,  1.40283864e+00,  5.52566117e+00,\n",
       "        5.77563616e+00,  4.90635595e+00,  4.23576225e+00,  4.70403098e+00,\n",
       "       -1.49366674e-01,  4.44082641e+00,  4.98755899e+00,  3.83987598e+00,\n",
       "        7.85602072e-01,  4.53358076e+00,  1.12750906e+00,  3.23867612e+00,\n",
       "        4.58195758e+00,  1.66232400e+00,  5.54359682e+00,  2.87651172e-01,\n",
       "        5.69236204e+00,  5.37061374e+00,  7.03435440e-01,  4.53518799e+00,\n",
       "       -1.19928540e-01,  2.08716554e+00,  6.05961601e-01,  4.58811915e+00,\n",
       "        2.33562347e+00,  7.07003369e-01,  3.78855168e+00,  8.92194189e-01,\n",
       "        5.93580092e+00,  3.69590089e+00,  5.58639242e+00,  4.19137746e+00,\n",
       "        5.03746568e+00, -8.83319177e-02,  1.89873501e-01,  2.10697898e+00,\n",
       "        2.02358967e+00,  9.24849229e-01,  4.83627593e+00,  2.16986044e+00,\n",
       "        5.55691270e+00,  5.98865576e+00,  4.81952891e+00,  5.94035060e+00,\n",
       "        1.26401048e+00, -3.63975752e-01,  7.23672968e-02,  3.98833079e+00,\n",
       "        4.04750148e+00,  5.45989481e+00,  5.38503287e+00,  2.22093776e-01,\n",
       "        6.36009856e-01,  5.10747576e+00,  3.83701995e+00,  1.20260128e+00,\n",
       "        5.54655820e+00,  5.86330080e+00,  1.18329947e+00,  3.47947082e-01,\n",
       "        5.10799723e+00,  4.87922736e+00,  4.26365334e+00,  4.84970497e+00,\n",
       "        5.73293543e+00,  1.31349416e+00,  5.06169197e+00, -3.21609301e-02,\n",
       "        4.99258613e+00,  5.39888209e+00,  4.45782616e+00,  1.31499294e+00,\n",
       "        4.72488372e+00, -8.74110019e-01,  4.11924309e+00,  3.87543686e+00,\n",
       "        8.43476266e-01,  1.91034838e+00,  4.74839320e+00,  5.61880458e+00,\n",
       "        1.14454185e+00,  2.39193526e+00,  7.43110427e-01,  4.70608423e+00,\n",
       "        5.62927511e+00,  4.40549848e+00,  4.92357145e+00,  1.19367791e+00,\n",
       "        4.47536528e+00,  5.50555788e-01,  5.31964656e+00,  5.40175854e+00,\n",
       "        7.30079567e-01,  1.69003114e+00,  4.61689848e+00,  4.39396759e+00,\n",
       "        1.38693391e+00, -5.27889913e-01,  2.95557954e+00,  3.95672852e+00,\n",
       "        5.61290809e+00,  9.09131451e-01,  1.50991231e+00,  5.06549155e-01,\n",
       "       -1.55738306e-02,  6.42455701e+00,  5.29066335e+00,  5.02667872e+00,\n",
       "        1.21732512e+00,  1.70329777e+00,  5.37843072e+00,  1.99310181e+00,\n",
       "        3.47917415e+00,  3.82748869e+00,  2.11064277e+00,  1.48151720e+00,\n",
       "        1.56974787e+00,  1.81893707e+00,  1.60857918e+00,  5.74740634e+00,\n",
       "        7.26597888e-01,  5.12936220e+00, -7.43946133e-01,  4.40631279e+00,\n",
       "        1.01868921e+00,  5.00275803e+00, -4.83347524e-01,  8.17557087e-01,\n",
       "        4.90726515e-01,  5.04586649e+00,  8.27617842e-01,  2.59651277e+00,\n",
       "        2.19542328e+00,  2.97100882e+00,  5.85047929e-01, -7.96196012e-01,\n",
       "        5.07161760e+00,  5.67485760e+00,  5.08813978e+00,  5.08353400e+00,\n",
       "        6.02251141e+00,  3.39433989e+00,  2.29667281e+00,  1.47798841e+00,\n",
       "        5.27857263e+00,  3.98496974e+00,  5.15906604e+00,  1.18149265e+00,\n",
       "        6.10576198e+00,  3.79974453e+00,  5.07847754e+00,  4.45308392e+00,\n",
       "       -2.75291939e-01,  1.07814179e+00,  1.23069702e-01,  8.08630963e-01,\n",
       "        5.58832787e+00,  5.22354919e+00,  2.50872913e-01,  4.68815370e-01,\n",
       "        4.14781962e+00,  2.63690129e+00,  2.98495146e+00,  4.63642644e-01,\n",
       "        5.43293416e+00,  4.73191180e-01,  1.69813012e+00,  5.56585906e+00,\n",
       "        4.32840205e+00,  1.80216250e+00,  4.58520850e+00, -5.80007325e-01,\n",
       "        2.20167882e-01, -1.43476776e-01,  1.46297701e+00,  2.28561190e+00,\n",
       "        6.24192032e-01,  1.60781062e+00,  2.58402427e-01,  5.99007396e+00,\n",
       "        4.75258546e+00,  5.51262032e-01,  5.63159510e+00,  6.05861258e+00,\n",
       "        5.66282220e+00,  5.99280558e+00,  2.27823833e+00,  4.68281525e+00,\n",
       "        5.63091899e+00,  1.19943754e+00,  6.07466545e+00,  1.55656574e+00,\n",
       "        5.81969064e+00,  1.88042740e+00, -6.38588117e-02,  6.28304501e+00,\n",
       "        3.79692638e+00,  1.84267949e+00,  2.43573605e-01,  5.56689074e+00,\n",
       "        1.98144028e+00,  5.13341096e+00,  5.16967403e+00,  5.82282524e+00,\n",
       "        5.00799668e+00,  1.89289775e+00,  2.34787004e+00,  1.43822222e+00,\n",
       "        1.76773585e+00,  5.44071269e+00,  5.66607637e-01,  4.37671186e+00,\n",
       "        5.12607606e+00, -4.76172724e-01,  4.89976919e-01,  1.68941698e+00,\n",
       "        5.40552386e+00,  5.42342891e-01,  5.02902300e+00,  1.12327241e+00,\n",
       "        4.68123041e+00,  2.07384280e+00,  5.70351887e+00,  2.57295466e+00,\n",
       "        6.12003730e+00,  9.22885352e-01,  5.33005868e+00,  4.16173980e+00,\n",
       "        5.01900737e+00,  1.68079171e-01,  2.90886127e-01,  4.92882311e+00,\n",
       "        3.20799038e+00,  2.88398300e+00, -8.48087355e-01,  1.20807979e+00,\n",
       "        4.79771585e+00,  5.44674677e+00,  6.76644379e-01,  5.49943948e+00,\n",
       "        3.57242488e+00,  4.80718334e+00,  9.10303035e-01,  5.57932716e+00,\n",
       "        4.55237605e+00,  5.48381733e+00, -7.77702201e-01,  4.26733881e+00,\n",
       "        5.67064836e+00,  5.99640427e+00,  5.57535156e+00,  4.87399281e+00,\n",
       "        4.96802423e+00, -4.66204956e-01,  4.54774448e+00,  4.69007221e+00,\n",
       "        5.44059857e+00,  2.58354119e+00, -7.54747156e-01,  5.05816689e+00,\n",
       "        5.10653333e+00,  5.61246827e+00,  5.41152283e+00,  2.51599233e+00,\n",
       "        5.16244121e+00,  5.69737957e+00,  5.04666878e+00,  4.08839026e+00,\n",
       "        6.86895159e-01,  4.93520049e+00,  7.57119207e-01,  6.32206563e-01,\n",
       "        7.68693789e-02,  6.32575404e+00,  4.83784088e+00,  1.70184142e+00,\n",
       "        4.16796171e+00,  6.59584918e-01,  5.13637566e+00,  1.38206082e+00,\n",
       "        4.68434084e+00,  5.59652178e+00,  5.85048242e+00,  4.93779916e+00,\n",
       "        5.69961680e+00,  4.76164258e+00,  1.96084534e+00,  4.64225357e+00,\n",
       "        1.34072576e+00,  9.68819410e-01,  3.97696566e+00,  4.67826319e+00,\n",
       "        2.30057945e+00,  5.99960132e+00,  5.19802932e+00, -1.76798938e-01,\n",
       "        2.36108606e-02,  8.16341704e-01,  4.53842021e+00,  4.57172838e+00,\n",
       "        4.66364522e+00,  5.61620912e+00,  5.00943536e+00,  5.13272637e+00,\n",
       "        5.11710121e+00,  4.92091722e+00,  3.83879706e+00,  5.96501157e+00,\n",
       "       -8.46481382e-01,  1.59270284e+00,  4.17434953e-01,  3.87876554e+00,\n",
       "        6.58860018e-01,  4.27255814e-01,  2.98739370e+00,  3.91816676e-01,\n",
       "        9.83895095e-01,  5.00817159e-01,  3.13997933e+00,  4.68353938e+00,\n",
       "        5.51243295e+00,  4.97757638e+00,  1.16262184e+00,  4.81380982e+00,\n",
       "        4.89057323e+00,  1.04628793e+00,  1.73815314e+00, -1.90017479e-01,\n",
       "        6.53346063e-01,  5.27545907e+00, -8.16176052e-01,  5.28075523e+00,\n",
       "        1.26423302e+00,  5.55278395e+00,  4.46499492e+00,  1.93768856e+00,\n",
       "        4.33050395e+00,  5.58361198e+00,  1.40846630e+00,  1.62798022e-01,\n",
       "        4.77940158e+00,  1.51347588e+00,  4.69709713e-01,  4.50413892e+00,\n",
       "        4.18705994e+00,  4.26709043e+00,  4.73127677e+00,  5.40194117e+00,\n",
       "        8.39218558e-01,  4.22425870e+00,  1.48631908e+00,  6.07823776e+00,\n",
       "       -6.29413281e-01,  6.05300296e+00,  1.09349259e-01,  5.53686729e-01,\n",
       "        5.88096129e+00,  1.26534077e+00,  7.74345614e-01,  8.41890738e-01,\n",
       "        5.17046167e-01,  5.07392283e+00,  4.69877957e+00,  5.74312261e+00,\n",
       "        2.83046663e+00,  1.32041716e+00,  2.97092122e-02,  1.41824764e+00,\n",
       "        5.01553899e+00, -1.13553752e+00,  1.91039544e+00,  5.19944789e+00,\n",
       "        5.75388147e+00,  3.74396833e+00,  5.81934068e+00, -1.15887783e+00,\n",
       "        4.63891669e+00,  1.59735425e+00,  3.78328922e+00, -6.78533316e-01,\n",
       "        4.80962657e+00,  7.81581531e-01,  4.34840805e+00, -3.13179335e-01,\n",
       "        1.22760810e+00,  4.38127441e+00,  3.27303736e-01,  4.32217114e+00,\n",
       "        5.43522776e+00,  5.55231409e-01,  4.47314461e+00,  4.59556014e+00,\n",
       "        2.72717522e+00,  5.10217242e+00, -1.10060767e-02,  4.03013887e+00,\n",
       "        5.62811019e+00,  1.84892440e+00,  2.33256264e-01,  3.12897973e+00,\n",
       "        5.99421140e-01,  4.72520569e+00,  4.57428204e+00,  5.50242603e+00,\n",
       "        5.28769692e+00,  2.27004353e+00,  5.42074184e+00,  4.64315832e+00,\n",
       "        6.31198681e+00,  1.47821542e+00,  1.44276970e+00,  2.15423237e+00,\n",
       "        4.66413282e+00,  5.00244741e+00,  4.50859339e+00,  5.90170294e+00,\n",
       "        4.11892370e-01,  8.33372249e-01,  4.32457876e+00,  1.39633717e+00,\n",
       "        3.98818819e+00,  4.77922601e+00,  1.22551266e+00,  6.45467493e+00,\n",
       "        4.81118085e+00,  1.91701362e+00, -7.59645671e-01,  4.46848640e+00,\n",
       "        5.00758635e+00,  9.24309423e-02,  5.15950115e+00,  4.79238941e+00,\n",
       "       -2.61289492e-01,  5.34124228e+00,  3.90994111e+00, -5.46728425e-01,\n",
       "        1.58806181e+00,  5.57311012e-01,  3.98694223e+00, -5.63029910e-02,\n",
       "        8.00128098e-01,  2.48567754e+00,  5.05712730e+00,  6.02031166e+00,\n",
       "       -7.38597289e-01, -2.23296308e-01,  5.16837346e+00,  5.08677690e+00,\n",
       "        1.31239721e+00,  5.59774102e+00,  4.75852582e+00,  4.57034182e+00,\n",
       "       -7.30153787e-01,  5.19134364e+00,  2.50378188e+00,  5.51316604e+00,\n",
       "       -3.14874292e-01,  5.74966804e+00,  9.44918735e-01,  4.21219718e+00,\n",
       "        4.83048643e+00,  3.66936594e+00,  4.86324994e+00,  2.75142130e-01,\n",
       "        8.30082503e-01,  4.46121681e+00,  5.30214161e+00,  1.41195564e+00,\n",
       "        2.22336421e+00,  2.21527380e+00,  5.32008939e+00,  5.68935073e+00,\n",
       "        5.94535582e+00,  6.04597903e+00,  3.58808882e+00,  5.73752770e-01,\n",
       "        8.20465490e-01,  5.02563534e+00,  4.09443043e+00,  5.51968492e+00,\n",
       "        1.24436711e+00,  2.65948103e+00,  4.57090089e+00,  1.89947897e+00,\n",
       "       -6.38904310e-01,  2.66484200e-01, -1.25304789e-01,  5.96487543e-02,\n",
       "        1.71638916e+00,  4.54696904e+00,  5.30538753e-01,  2.60001369e+00,\n",
       "        4.59480699e+00,  4.35264638e+00,  4.73974662e+00,  1.52585571e+00,\n",
       "        5.76926575e+00,  1.32118849e+00,  3.09526294e+00,  6.09871959e-01,\n",
       "        5.53690356e+00,  1.36881430e+00,  1.61224995e+00,  5.07422884e+00,\n",
       "        4.81644926e+00,  2.79992060e+00,  3.56811354e-01,  1.18674919e+00,\n",
       "       -4.17838166e-01,  4.55639277e+00,  2.03356309e+00,  5.24886604e+00,\n",
       "        5.29110317e+00,  5.21328613e+00,  4.24400271e+00,  4.93208441e+00,\n",
       "        2.89824868e+00,  4.48722589e+00,  5.85009914e+00,  5.98482518e+00,\n",
       "        5.62673801e+00,  1.30799298e+00,  4.90434168e+00, -1.18835510e+00,\n",
       "        5.45293140e+00,  2.88150395e+00,  4.37526478e+00, -2.80046233e-01,\n",
       "        5.99104961e+00, -2.69364164e-01,  1.38493679e-01,  7.30949148e-01,\n",
       "        5.54633642e+00, -3.88501307e-01,  4.72717205e+00,  4.04898166e+00,\n",
       "        6.81294227e-02,  5.44679509e+00,  1.88456082e+00,  1.68472240e+00,\n",
       "        4.94981250e+00,  1.53400106e-01,  5.42767668e+00,  7.99097767e-02,\n",
       "        4.50751544e+00,  5.17322480e+00,  4.51807923e+00,  4.05390219e+00,\n",
       "        2.68193726e+00,  4.51495926e+00,  1.72498750e+00, -1.01213830e-01,\n",
       "        7.19987539e-01,  8.87167604e-01,  1.63774311e+00,  1.97697216e+00,\n",
       "        4.65604617e+00,  5.53636598e+00,  4.24262965e+00,  2.00293148e+00,\n",
       "        5.44300169e+00,  4.35070037e+00,  1.97508437e+00,  1.29773685e+00,\n",
       "        5.74705734e+00,  2.68255490e+00,  1.58665801e-01,  5.06106964e+00,\n",
       "        3.08184473e+00,  4.89775403e+00,  4.14933575e+00,  1.67915838e+00,\n",
       "        4.19253292e+00,  4.84381168e+00,  2.45861900e+00,  7.78725998e-01,\n",
       "        2.26218643e-01,  1.53860031e+00,  1.47658903e+00,  5.89861738e+00,\n",
       "        5.04124723e+00,  4.28472168e+00,  5.62990752e+00,  1.49003957e+00,\n",
       "        1.20583231e+00,  4.92610449e+00,  1.68023330e+00,  5.61440343e+00,\n",
       "        1.49998795e+00,  2.30362645e-01,  4.60737828e+00, -3.66855347e-01,\n",
       "        1.45851428e+00,  1.17235169e+00,  5.13398454e+00,  4.00574491e+00,\n",
       "        1.49553145e+00, -4.83870629e-01,  4.41513594e+00,  5.49258740e+00,\n",
       "        5.37692925e+00,  3.53319650e-01,  5.84677882e+00,  1.19986432e+00,\n",
       "        5.35790493e+00,  5.12706116e+00,  5.51589570e+00,  5.56462758e+00,\n",
       "        2.34486309e+00,  5.79885172e+00, -1.97793425e-01,  1.13108855e+00,\n",
       "        6.11888484e+00,  1.21933662e+00,  1.28563297e+00,  1.89384885e-01,\n",
       "        1.83262592e-01,  4.51523118e-01,  5.53481823e+00,  4.89096294e+00,\n",
       "        4.06133174e+00,  1.06870481e+00,  4.53154996e+00,  1.48662484e+00,\n",
       "        4.41955766e+00,  3.06824427e+00, -5.98450162e-01,  4.60168462e+00,\n",
       "        1.99117854e+00,  2.04326906e+00,  6.03595569e+00,  8.99206137e-01,\n",
       "        5.22495889e-02,  6.53389268e-01,  6.63736871e-01,  1.57817279e+00,\n",
       "        1.24411423e+00,  1.71628402e+00,  9.20024584e-01,  1.58579015e+00,\n",
       "        4.35060351e+00,  9.02442832e-01,  5.47272322e+00,  3.95042284e+00,\n",
       "        2.79253527e+00,  4.78672322e+00,  2.95135256e-01,  4.94110027e+00,\n",
       "        4.60223941e+00,  5.71659460e+00,  1.73295761e+00,  3.25550185e+00,\n",
       "        4.76454112e+00,  5.87580441e+00,  4.18705301e-01,  4.52882790e+00,\n",
       "        1.07061065e+00,  4.16029457e+00,  5.42923187e+00,  1.76920404e+00,\n",
       "        1.09037379e+00,  6.33955739e+00,  5.94635976e+00,  1.95401664e+00,\n",
       "        5.76037955e+00,  1.29615247e+00,  2.36704719e+00,  7.83748094e-01])"
      ]
     },
     "execution_count": 85,
     "metadata": {},
     "output_type": "execute_result"
    }
   ],
   "source": [
    "data"
   ]
  },
  {
   "cell_type": "code",
   "execution_count": 96,
   "metadata": {},
   "outputs": [
    {
     "data": {
      "text/plain": [
       "(20,)"
      ]
     },
     "execution_count": 96,
     "metadata": {},
     "output_type": "execute_result"
    }
   ],
   "source": [
    "np.logspace(-1,1,20).shape"
   ]
  },
  {
   "cell_type": "code",
   "execution_count": 103,
   "metadata": {},
   "outputs": [],
   "source": [
    "mean = [0, 0]\n",
    "cov = [[1, 1], [1, 2]]\n",
    "x, y = np.random.multivariate_normal(mean, cov, 10000).T"
   ]
  },
  {
   "cell_type": "code",
   "execution_count": 106,
   "metadata": {},
   "outputs": [],
   "source": [
    "counts, xedges, yedges = np.histogram2d(x, y, bins=30)"
   ]
  },
  {
   "cell_type": "code",
   "execution_count": 108,
   "metadata": {},
   "outputs": [
    {
     "data": {
      "text/plain": [
       "(30, 30)"
      ]
     },
     "execution_count": 108,
     "metadata": {},
     "output_type": "execute_result"
    }
   ],
   "source": [
    "counts.shape"
   ]
  },
  {
   "cell_type": "code",
   "execution_count": 117,
   "metadata": {},
   "outputs": [
    {
     "ename": "ValueError",
     "evalue": "`bins` must be 1d, when an array",
     "output_type": "error",
     "traceback": [
      "\u001b[1;31m---------------------------------------------------------------------------\u001b[0m",
      "\u001b[1;31mValueError\u001b[0m                                Traceback (most recent call last)",
      "\u001b[1;32m<ipython-input-117-04540f3620cd>\u001b[0m in \u001b[0;36m<module>\u001b[1;34m\u001b[0m\n\u001b[1;32m----> 1\u001b[1;33m \u001b[0mplt\u001b[0m\u001b[1;33m.\u001b[0m\u001b[0mhist\u001b[0m\u001b[1;33m(\u001b[0m\u001b[0mdata\u001b[0m\u001b[1;33m,\u001b[0m\u001b[0mbins\u001b[0m\u001b[1;33m)\u001b[0m\u001b[1;33m\u001b[0m\u001b[1;33m\u001b[0m\u001b[0m\n\u001b[0m",
      "\u001b[1;32m~\\Anaconda3\\lib\\site-packages\\matplotlib\\pyplot.py\u001b[0m in \u001b[0;36mhist\u001b[1;34m(x, bins, range, density, weights, cumulative, bottom, histtype, align, orientation, rwidth, log, color, label, stacked, normed, data, **kwargs)\u001b[0m\n\u001b[0;32m   2640\u001b[0m         \u001b[0malign\u001b[0m\u001b[1;33m=\u001b[0m\u001b[0malign\u001b[0m\u001b[1;33m,\u001b[0m \u001b[0morientation\u001b[0m\u001b[1;33m=\u001b[0m\u001b[0morientation\u001b[0m\u001b[1;33m,\u001b[0m \u001b[0mrwidth\u001b[0m\u001b[1;33m=\u001b[0m\u001b[0mrwidth\u001b[0m\u001b[1;33m,\u001b[0m \u001b[0mlog\u001b[0m\u001b[1;33m=\u001b[0m\u001b[0mlog\u001b[0m\u001b[1;33m,\u001b[0m\u001b[1;33m\u001b[0m\u001b[1;33m\u001b[0m\u001b[0m\n\u001b[0;32m   2641\u001b[0m         \u001b[0mcolor\u001b[0m\u001b[1;33m=\u001b[0m\u001b[0mcolor\u001b[0m\u001b[1;33m,\u001b[0m \u001b[0mlabel\u001b[0m\u001b[1;33m=\u001b[0m\u001b[0mlabel\u001b[0m\u001b[1;33m,\u001b[0m \u001b[0mstacked\u001b[0m\u001b[1;33m=\u001b[0m\u001b[0mstacked\u001b[0m\u001b[1;33m,\u001b[0m \u001b[0mnormed\u001b[0m\u001b[1;33m=\u001b[0m\u001b[0mnormed\u001b[0m\u001b[1;33m,\u001b[0m\u001b[1;33m\u001b[0m\u001b[1;33m\u001b[0m\u001b[0m\n\u001b[1;32m-> 2642\u001b[1;33m         **({\"data\": data} if data is not None else {}), **kwargs)\n\u001b[0m\u001b[0;32m   2643\u001b[0m \u001b[1;33m\u001b[0m\u001b[0m\n\u001b[0;32m   2644\u001b[0m \u001b[1;33m\u001b[0m\u001b[0m\n",
      "\u001b[1;32m~\\Anaconda3\\lib\\site-packages\\matplotlib\\__init__.py\u001b[0m in \u001b[0;36minner\u001b[1;34m(ax, data, *args, **kwargs)\u001b[0m\n\u001b[0;32m   1599\u001b[0m     \u001b[1;32mdef\u001b[0m \u001b[0minner\u001b[0m\u001b[1;33m(\u001b[0m\u001b[0max\u001b[0m\u001b[1;33m,\u001b[0m \u001b[1;33m*\u001b[0m\u001b[0margs\u001b[0m\u001b[1;33m,\u001b[0m \u001b[0mdata\u001b[0m\u001b[1;33m=\u001b[0m\u001b[1;32mNone\u001b[0m\u001b[1;33m,\u001b[0m \u001b[1;33m**\u001b[0m\u001b[0mkwargs\u001b[0m\u001b[1;33m)\u001b[0m\u001b[1;33m:\u001b[0m\u001b[1;33m\u001b[0m\u001b[1;33m\u001b[0m\u001b[0m\n\u001b[0;32m   1600\u001b[0m         \u001b[1;32mif\u001b[0m \u001b[0mdata\u001b[0m \u001b[1;32mis\u001b[0m \u001b[1;32mNone\u001b[0m\u001b[1;33m:\u001b[0m\u001b[1;33m\u001b[0m\u001b[1;33m\u001b[0m\u001b[0m\n\u001b[1;32m-> 1601\u001b[1;33m             \u001b[1;32mreturn\u001b[0m \u001b[0mfunc\u001b[0m\u001b[1;33m(\u001b[0m\u001b[0max\u001b[0m\u001b[1;33m,\u001b[0m \u001b[1;33m*\u001b[0m\u001b[0mmap\u001b[0m\u001b[1;33m(\u001b[0m\u001b[0msanitize_sequence\u001b[0m\u001b[1;33m,\u001b[0m \u001b[0margs\u001b[0m\u001b[1;33m)\u001b[0m\u001b[1;33m,\u001b[0m \u001b[1;33m**\u001b[0m\u001b[0mkwargs\u001b[0m\u001b[1;33m)\u001b[0m\u001b[1;33m\u001b[0m\u001b[1;33m\u001b[0m\u001b[0m\n\u001b[0m\u001b[0;32m   1602\u001b[0m \u001b[1;33m\u001b[0m\u001b[0m\n\u001b[0;32m   1603\u001b[0m         \u001b[0mbound\u001b[0m \u001b[1;33m=\u001b[0m \u001b[0mnew_sig\u001b[0m\u001b[1;33m.\u001b[0m\u001b[0mbind\u001b[0m\u001b[1;33m(\u001b[0m\u001b[0max\u001b[0m\u001b[1;33m,\u001b[0m \u001b[1;33m*\u001b[0m\u001b[0margs\u001b[0m\u001b[1;33m,\u001b[0m \u001b[1;33m**\u001b[0m\u001b[0mkwargs\u001b[0m\u001b[1;33m)\u001b[0m\u001b[1;33m\u001b[0m\u001b[1;33m\u001b[0m\u001b[0m\n",
      "\u001b[1;32m~\\Anaconda3\\lib\\site-packages\\matplotlib\\axes\\_axes.py\u001b[0m in \u001b[0;36mhist\u001b[1;34m(self, x, bins, range, density, weights, cumulative, bottom, histtype, align, orientation, rwidth, log, color, label, stacked, normed, **kwargs)\u001b[0m\n\u001b[0;32m   6750\u001b[0m \u001b[1;33m\u001b[0m\u001b[0m\n\u001b[0;32m   6751\u001b[0m             bins = histogram_bin_edges(np.concatenate(x),\n\u001b[1;32m-> 6752\u001b[1;33m                                        bins, bin_range, _w)\n\u001b[0m\u001b[0;32m   6753\u001b[0m         \u001b[1;32melse\u001b[0m\u001b[1;33m:\u001b[0m\u001b[1;33m\u001b[0m\u001b[1;33m\u001b[0m\u001b[0m\n\u001b[0;32m   6754\u001b[0m             \u001b[0mhist_kwargs\u001b[0m\u001b[1;33m[\u001b[0m\u001b[1;34m'range'\u001b[0m\u001b[1;33m]\u001b[0m \u001b[1;33m=\u001b[0m \u001b[0mbin_range\u001b[0m\u001b[1;33m\u001b[0m\u001b[1;33m\u001b[0m\u001b[0m\n",
      "\u001b[1;32m~\\Anaconda3\\lib\\site-packages\\numpy\\lib\\histograms.py\u001b[0m in \u001b[0;36mhistogram_bin_edges\u001b[1;34m(a, bins, range, weights)\u001b[0m\n\u001b[0;32m    655\u001b[0m     \"\"\"\n\u001b[0;32m    656\u001b[0m     \u001b[0ma\u001b[0m\u001b[1;33m,\u001b[0m \u001b[0mweights\u001b[0m \u001b[1;33m=\u001b[0m \u001b[0m_ravel_and_check_weights\u001b[0m\u001b[1;33m(\u001b[0m\u001b[0ma\u001b[0m\u001b[1;33m,\u001b[0m \u001b[0mweights\u001b[0m\u001b[1;33m)\u001b[0m\u001b[1;33m\u001b[0m\u001b[1;33m\u001b[0m\u001b[0m\n\u001b[1;32m--> 657\u001b[1;33m     \u001b[0mbin_edges\u001b[0m\u001b[1;33m,\u001b[0m \u001b[0m_\u001b[0m \u001b[1;33m=\u001b[0m \u001b[0m_get_bin_edges\u001b[0m\u001b[1;33m(\u001b[0m\u001b[0ma\u001b[0m\u001b[1;33m,\u001b[0m \u001b[0mbins\u001b[0m\u001b[1;33m,\u001b[0m \u001b[0mrange\u001b[0m\u001b[1;33m,\u001b[0m \u001b[0mweights\u001b[0m\u001b[1;33m)\u001b[0m\u001b[1;33m\u001b[0m\u001b[1;33m\u001b[0m\u001b[0m\n\u001b[0m\u001b[0;32m    658\u001b[0m     \u001b[1;32mreturn\u001b[0m \u001b[0mbin_edges\u001b[0m\u001b[1;33m\u001b[0m\u001b[1;33m\u001b[0m\u001b[0m\n\u001b[0;32m    659\u001b[0m \u001b[1;33m\u001b[0m\u001b[0m\n",
      "\u001b[1;32m~\\Anaconda3\\lib\\site-packages\\numpy\\lib\\histograms.py\u001b[0m in \u001b[0;36m_get_bin_edges\u001b[1;34m(a, bins, range, weights)\u001b[0m\n\u001b[0;32m    424\u001b[0m \u001b[1;33m\u001b[0m\u001b[0m\n\u001b[0;32m    425\u001b[0m     \u001b[1;32melse\u001b[0m\u001b[1;33m:\u001b[0m\u001b[1;33m\u001b[0m\u001b[1;33m\u001b[0m\u001b[0m\n\u001b[1;32m--> 426\u001b[1;33m         \u001b[1;32mraise\u001b[0m \u001b[0mValueError\u001b[0m\u001b[1;33m(\u001b[0m\u001b[1;34m'`bins` must be 1d, when an array'\u001b[0m\u001b[1;33m)\u001b[0m\u001b[1;33m\u001b[0m\u001b[1;33m\u001b[0m\u001b[0m\n\u001b[0m\u001b[0;32m    427\u001b[0m \u001b[1;33m\u001b[0m\u001b[0m\n\u001b[0;32m    428\u001b[0m     \u001b[1;32mif\u001b[0m \u001b[0mn_equal_bins\u001b[0m \u001b[1;32mis\u001b[0m \u001b[1;32mnot\u001b[0m \u001b[1;32mNone\u001b[0m\u001b[1;33m:\u001b[0m\u001b[1;33m\u001b[0m\u001b[1;33m\u001b[0m\u001b[0m\n",
      "\u001b[1;31mValueError\u001b[0m: `bins` must be 1d, when an array"
     ]
    },
    {
     "data": {
      "image/png": "[encoded data removed]",
      "text/plain": [
       "<Figure size 432x288 with 1 Axes>"
      ]
     },
     "metadata": {
      "needs_background": "light"
     },
     "output_type": "display_data"
    }
   ],
   "source": [
    "plt.hist(data,bins)"
   ]
  },
  {
   "cell_type": "code",
   "execution_count": 119,
   "metadata": {},
   "outputs": [
    {
     "ename": "AttributeError",
     "evalue": "'list' object has no attribute 'shape'",
     "output_type": "error",
     "traceback": [
      "\u001b[1;31m---------------------------------------------------------------------------\u001b[0m",
      "\u001b[1;31mAttributeError\u001b[0m                            Traceback (most recent call last)",
      "\u001b[1;32m<ipython-input-119-dde893490b33>\u001b[0m in \u001b[0;36m<module>\u001b[1;34m\u001b[0m\n\u001b[1;32m----> 1\u001b[1;33m \u001b[0mbins\u001b[0m\u001b[1;33m.\u001b[0m\u001b[0mshape\u001b[0m\u001b[1;33m\u001b[0m\u001b[1;33m\u001b[0m\u001b[0m\n\u001b[0m",
      "\u001b[1;31mAttributeError\u001b[0m: 'list' object has no attribute 'shape'"
     ]
    }
   ],
   "source": [
    "bins.shape"
   ]
  },
  {
   "cell_type": "code",
   "execution_count": null,
   "metadata": {},
   "outputs": [],
   "source": []
  }
 ],
 "metadata": {
  "kernelspec": {
   "display_name": "Python 3",
   "language": "python",
   "name": "python3"
  },
  "language_info": {
   "codemirror_mode": {
    "name": "ipython",
    "version": 3
   },
   "file_extension": ".py",
   "mimetype": "text/x-python",
   "name": "python",
   "nbconvert_exporter": "python",
   "pygments_lexer": "ipython3",
   "version": "3.7.4"
  }
 },
 "nbformat": 4,
 "nbformat_minor": 2
}
